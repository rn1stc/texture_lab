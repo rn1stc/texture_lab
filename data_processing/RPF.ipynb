{
 "cells": [
  {
   "cell_type": "code",
   "execution_count": 1,
   "metadata": {},
   "outputs": [],
   "source": [
    "import numpy as np\n",
    "import matplotlib\n",
    "%matplotlib inline"
   ]
  },
  {
   "cell_type": "code",
   "execution_count": 2,
   "metadata": {},
   "outputs": [],
   "source": [
    "import pandas as pd"
   ]
  },
  {
   "cell_type": "code",
   "execution_count": 3,
   "metadata": {},
   "outputs": [],
   "source": [
    "with open('D:\\Texture\\RPF\\Zry4_Dil182.tpf') as file:\n",
    "    k = 0\n",
    "    data1 = []\n",
    "    data2 = []\n",
    "    data3 = []\n",
    "    data4 = []\n",
    "    data5 = []\n",
    "    data6 = []\n",
    "    data7 = []\n",
    "    data8 = []\n",
    "    for line in file:\n",
    "        row = line.split()\n",
    "        if row != []:\n",
    "            if k == 4:\n",
    "                data1.append(row)\n",
    "            if k == 5:\n",
    "                data2.append(row)\n",
    "            if k == 6:\n",
    "                data3.append(row)\n",
    "            if k == 7:\n",
    "                data4.append(row)\n",
    "            if k == 11:\n",
    "                data5.append(row)\n",
    "            if k == 12:\n",
    "                data6.append(row)\n",
    "            if k == 13:\n",
    "                data7.append(row)\n",
    "            if k == 14:\n",
    "                data8.append(row)\n",
    "        if row == ['RECALCULATED', 'POLE', 'FIGURE'] or row == []:\n",
    "            k += 1\n",
    "data1 = np.array(data1)\n",
    "data2 = np.array(data2)\n",
    "data3 = np.array(data3)\n",
    "data4 = np.array(data4)\n",
    "data5 = np.array(data5)\n",
    "data6 = np.array(data6)\n",
    "data7 = np.array(data7)\n",
    "data8 = np.array(data8)"
   ]
  },
  {
   "cell_type": "code",
   "execution_count": 4,
   "metadata": {},
   "outputs": [],
   "source": [
    "df11 = pd.DataFrame(data1[1:, 1:], index=data1[1:, 0], columns=data1[0, 1:])\n",
    "df12 = pd.DataFrame(data2[1:, 2:], index=data2[1:, 0], columns=data2[0, 2:])\n",
    "df13 = pd.DataFrame(data3[1:, 2:], index=data3[1:, 0], columns=data3[0, 2:])\n",
    "df14 = pd.DataFrame(data4[1:, 2:], index=data4[1:, 0], columns=data4[0, 2:])\n",
    "\n",
    "df21 = pd.DataFrame(data5[1:, 1:], index=data5[1:, 0], columns=data5[0, 1:])\n",
    "df22 = pd.DataFrame(data6[1:, 2:], index=data6[1:, 0], columns=data6[0, 2:])\n",
    "df23 = pd.DataFrame(data7[1:, 2:], index=data7[1:, 0], columns=data7[0, 2:])\n",
    "df24 = pd.DataFrame(data8[1:, 2:], index=data8[1:, 0], columns=data8[0, 2:])"
   ]
  },
  {
   "cell_type": "code",
   "execution_count": 5,
   "metadata": {
    "scrolled": true
   },
   "outputs": [],
   "source": [
    "df1 = df11.merge(df12, right_index=True, left_index=True) \\\n",
    "        .merge(df13, right_index=True, left_index=True) \\\n",
    "        .merge(df14, right_index=True, left_index=True).T\n",
    "df2 = df21.merge(df22, right_index=True, left_index=True) \\\n",
    "        .merge(df23, right_index=True, left_index=True) \\\n",
    "        .merge(df24, right_index=True, left_index=True).T"
   ]
  },
  {
   "cell_type": "code",
   "execution_count": 6,
   "metadata": {},
   "outputs": [],
   "source": [
    "def result(df):\n",
    "    dic = {'X': [], 'Y': [], 'P': []}\n",
    "    for index, row in df.iterrows():\n",
    "        i = 0\n",
    "        for col in row.index:\n",
    "            dic['X'].append(float(col) * np.sin(float(index) * np.pi / 180))\n",
    "            dic['Y'].append(float(col) * np.cos(float(index) * np.pi / 180))\n",
    "            dic['P'].append(float(row[i]))\n",
    "            i +=1\n",
    "    res =  pd.DataFrame(dic)\n",
    "    res['X'] = res['X'].apply(lambda x: round(x, 2))\n",
    "    res['Y'] = res['Y'].apply(lambda x: round(x, 2))\n",
    "    return res"
   ]
  },
  {
   "cell_type": "code",
   "execution_count": 7,
   "metadata": {},
   "outputs": [],
   "source": [
    "res1 = result(df1)\n",
    "res2 = result(df2)"
   ]
  },
  {
   "cell_type": "code",
   "execution_count": 8,
   "metadata": {},
   "outputs": [],
   "source": [
    "res1.to_csv(r'D:\\Texture\\RPFrez\\Zry4_Dil182(1).txt', sep='\\t', index=False)\n",
    "res2.to_csv(r'D:\\Texture\\RPFrez\\Zry4_Dil182(2).txt', sep='\\t', index=False)"
   ]
  },
  {
   "cell_type": "code",
   "execution_count": null,
   "metadata": {},
   "outputs": [],
   "source": []
  },
  {
   "cell_type": "code",
   "execution_count": null,
   "metadata": {},
   "outputs": [],
   "source": []
  },
  {
   "cell_type": "code",
   "execution_count": null,
   "metadata": {},
   "outputs": [],
   "source": []
  },
  {
   "cell_type": "code",
   "execution_count": null,
   "metadata": {},
   "outputs": [],
   "source": []
  },
  {
   "cell_type": "code",
   "execution_count": null,
   "metadata": {},
   "outputs": [],
   "source": []
  },
  {
   "cell_type": "code",
   "execution_count": null,
   "metadata": {},
   "outputs": [],
   "source": []
  },
  {
   "cell_type": "code",
   "execution_count": null,
   "metadata": {},
   "outputs": [],
   "source": []
  },
  {
   "cell_type": "code",
   "execution_count": null,
   "metadata": {},
   "outputs": [],
   "source": []
  },
  {
   "cell_type": "code",
   "execution_count": null,
   "metadata": {},
   "outputs": [],
   "source": []
  },
  {
   "cell_type": "code",
   "execution_count": null,
   "metadata": {},
   "outputs": [],
   "source": []
  },
  {
   "cell_type": "code",
   "execution_count": null,
   "metadata": {},
   "outputs": [],
   "source": []
  },
  {
   "cell_type": "code",
   "execution_count": null,
   "metadata": {},
   "outputs": [],
   "source": []
  },
  {
   "cell_type": "code",
   "execution_count": null,
   "metadata": {},
   "outputs": [],
   "source": []
  }
 ],
 "metadata": {
  "kernelspec": {
   "display_name": "Python 3",
   "language": "python",
   "name": "python3"
  },
  "language_info": {
   "codemirror_mode": {
    "name": "ipython",
    "version": 3
   },
   "file_extension": ".py",
   "mimetype": "text/x-python",
   "name": "python",
   "nbconvert_exporter": "python",
   "pygments_lexer": "ipython3",
   "version": "3.7.4"
  }
 },
 "nbformat": 4,
 "nbformat_minor": 2
}
